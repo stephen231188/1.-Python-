{
 "cells": [
  {
   "cell_type": "code",
   "execution_count": null,
   "id": "9502328d",
   "metadata": {},
   "outputs": [],
   "source": [
    "# Create Function"
   ]
  },
  {
   "cell_type": "code",
   "execution_count": null,
   "id": "097fcda7",
   "metadata": {},
   "outputs": [],
   "source": [
    "Subfields()"
   ]
  },
  {
   "cell_type": "code",
   "execution_count": 5,
   "id": "c5c156e9",
   "metadata": {},
   "outputs": [
    {
     "name": "stdout",
     "output_type": "stream",
     "text": [
      "Sub-fields in AI are:\n",
      "Machine Learning\n",
      "Neural Networks\n",
      "Vision\n",
      "Robotics\n",
      "Speech Processing\n",
      "Natural Language Processing\n"
     ]
    }
   ],
   "source": [
    "print(\"Sub-fields in AI are:\\nMachine Learning\\nNeural Networks\\nVision\\nRobotics\\nSpeech Processing\\nNatural Language Processing\")"
   ]
  },
  {
   "cell_type": "code",
   "execution_count": null,
   "id": "c3852481",
   "metadata": {},
   "outputs": [],
   "source": [
    "# Create Function"
   ]
  },
  {
   "cell_type": "code",
   "execution_count": null,
   "id": "d2aac483",
   "metadata": {},
   "outputs": [],
   "source": [
    "OddEven()"
   ]
  },
  {
   "cell_type": "code",
   "execution_count": 40,
   "id": "002b665f",
   "metadata": {},
   "outputs": [],
   "source": [
    "def OddEven():\n",
    "    num=int(input(\"Enter the number:\"))\n",
    "    if((num%2)==1):\n",
    "        print(num, \"is odd Number\")\n",
    "        message=\"odd number\"\n",
    "    else:\n",
    "        print(num, \"is even Number\")\n",
    "        message=\"Even number\"\n",
    "    return message"
   ]
  },
  {
   "cell_type": "code",
   "execution_count": 42,
   "id": "9983adec",
   "metadata": {},
   "outputs": [
    {
     "name": "stdout",
     "output_type": "stream",
     "text": [
      "Enter the number:4\n",
      "4 is even Number\n"
     ]
    }
   ],
   "source": [
    "message=OddEven()"
   ]
  },
  {
   "cell_type": "code",
   "execution_count": null,
   "id": "89fd2ba2",
   "metadata": {},
   "outputs": [],
   "source": [
    "# Create Function"
   ]
  },
  {
   "cell_type": "code",
   "execution_count": null,
   "id": "f565bbd6",
   "metadata": {},
   "outputs": [],
   "source": [
    "Elegible()"
   ]
  },
  {
   "cell_type": "code",
   "execution_count": 76,
   "id": "ae43b363",
   "metadata": {},
   "outputs": [],
   "source": [
    "def Elegible():\n",
    "    Gender=input(\"Your Gender: \")\n",
    "    Age=int(input(\"Your Age: \"))\n",
    "    if(Gender==\"Male\"):\n",
    "      if(Age >=21):\n",
    "        print(\"ELIGIBLE\")\n",
    "        message=\"ELIGIBLE\"\n",
    "      else:\n",
    "        print(\"NOT ELIGIBLE\")\n",
    "        message=\"NOT ELIGIBLE\"\n",
    "    elif(Gender==\"Female\"):\n",
    "      if(Age >18):\n",
    "        print(\"ELIGIBLE\")\n",
    "        message=\"ELIGIBLE\"\n",
    "      else:\n",
    "        print(\"ELIGIBLE\")\n",
    "        message=\"NOT ELIGIBLE\""
   ]
  },
  {
   "cell_type": "code",
   "execution_count": 77,
   "id": "6e1021a5",
   "metadata": {},
   "outputs": [
    {
     "name": "stdout",
     "output_type": "stream",
     "text": [
      "Your Gender: Male\n",
      "Your Age: 18\n",
      "NOT ELIGIBLE\n"
     ]
    }
   ],
   "source": [
    "message=Elegible()"
   ]
  },
  {
   "cell_type": "code",
   "execution_count": null,
   "id": "fccc096a",
   "metadata": {},
   "outputs": [],
   "source": [
    "# Create Function"
   ]
  },
  {
   "cell_type": "code",
   "execution_count": null,
   "id": "4128ed6f",
   "metadata": {},
   "outputs": [],
   "source": [
    "percentage()"
   ]
  },
  {
   "cell_type": "code",
   "execution_count": 79,
   "id": "26150ed1",
   "metadata": {},
   "outputs": [],
   "source": [
    "def percentage():\n",
    "    a=int(input(\"Subject1= \"))\n",
    "    b=int(input(\"Subject2= \"))\n",
    "    c=int(input(\"Subject3= \"))\n",
    "    d=int(input(\"Subject4= \"))\n",
    "    e=int(input(\"Subject5= \"))\n",
    "    add=a+b+c+d+e\n",
    "    print((\"Total: \"), add)\n",
    "    message=\"Total\"\n",
    "    per=(add)*(100/500)\n",
    "    print((\"Percentage: \"),per)\n",
    "    message=\"Percentage\""
   ]
  },
  {
   "cell_type": "code",
   "execution_count": 80,
   "id": "33a41711",
   "metadata": {
    "scrolled": true
   },
   "outputs": [
    {
     "name": "stdout",
     "output_type": "stream",
     "text": [
      "Subject1= 23\n",
      "Subject2= 45\n",
      "Subject3= 34\n",
      "Subject4= 23\n",
      "Subject5= 23\n",
      "Total:  148\n",
      "Percentage:  29.6\n"
     ]
    }
   ],
   "source": [
    "message=percentage()"
   ]
  },
  {
   "cell_type": "code",
   "execution_count": null,
   "id": "07ab02eb",
   "metadata": {},
   "outputs": [],
   "source": [
    "# Create Function"
   ]
  },
  {
   "cell_type": "code",
   "execution_count": null,
   "id": "8b2411df",
   "metadata": {},
   "outputs": [],
   "source": [
    "triangle()"
   ]
  },
  {
   "cell_type": "code",
   "execution_count": 25,
   "id": "68608ca7",
   "metadata": {},
   "outputs": [
    {
     "name": "stdout",
     "output_type": "stream",
     "text": [
      "Height: 3\n",
      "Breadth: 4\n",
      "Area formula: (Height*Breadth)/2\n",
      "Area of Triangle: 6.0\n",
      "Height1: 3\n",
      "Height2: 4\n",
      "Breadth1: 45\n",
      "Perimeter formula: Height1+Height2+Breadth\n",
      "Perimeter of Triangle: 52\n"
     ]
    }
   ],
   "source": [
    "Height = float(input('Height: '))\n",
    "Breadth = float(input('Breadth: '))\n",
    "formula = (Height*Breadth)/2\n",
    "print (\"Area formula: (Height*Breadth)/2\\nArea of Triangle:\", formula)\n",
    "Height1 = int(input('Height1: '))\n",
    "Height2 = int(input('Height2: '))\n",
    "Breadth1 = int(input('Breadth1: '))\n",
    "formula = Height1+Height2+Breadth1\n",
    "print (\"Perimeter formula: Height1+Height2+Breadth\\nPerimeter of Triangle:\", formula)"
   ]
  }
 ],
 "metadata": {
  "kernelspec": {
   "display_name": "Python 3 (ipykernel)",
   "language": "python",
   "name": "python3"
  },
  "language_info": {
   "codemirror_mode": {
    "name": "ipython",
    "version": 3
   },
   "file_extension": ".py",
   "mimetype": "text/x-python",
   "name": "python",
   "nbconvert_exporter": "python",
   "pygments_lexer": "ipython3",
   "version": "3.11.3"
  }
 },
 "nbformat": 4,
 "nbformat_minor": 5
}
