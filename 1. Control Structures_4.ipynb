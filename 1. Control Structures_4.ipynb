{
 "cells": [
  {
   "cell_type": "code",
   "execution_count": null,
   "id": "fa431c31",
   "metadata": {},
   "outputs": [],
   "source": [
    "# print 'CORRECT' if i == 10"
   ]
  },
  {
   "cell_type": "code",
   "execution_count": 8,
   "id": "7efff9d7",
   "metadata": {},
   "outputs": [
    {
     "name": "stdout",
     "output_type": "stream",
     "text": [
      "value= 10\n",
      "correct\n"
     ]
    }
   ],
   "source": [
    "i=10\n",
    "print(\"value= 10\")\n",
    "if i==10:\n",
    "    print(\"correct\")\n",
    "else:\n",
    "    print(\"incorrect\")"
   ]
  },
  {
   "cell_type": "code",
   "execution_count": null,
   "id": "85b9d4a5",
   "metadata": {},
   "outputs": [],
   "source": [
    "# Check the password, using if and else"
   ]
  },
  {
   "cell_type": "code",
   "execution_count": 20,
   "id": "c95cab2c",
   "metadata": {},
   "outputs": [
    {
     "name": "stdout",
     "output_type": "stream",
     "text": [
      "Enter the password: HOPE@123\n",
      "Your password is correct\n"
     ]
    }
   ],
   "source": [
    "password = input(\"Enter the password: \")\n",
    "if password == \"HOPE@123\":  \n",
    "    print(\"Your password is correct\")\n",
    "else:\n",
    "    print(\"Your password is incorrect\")"
   ]
  },
  {
   "cell_type": "code",
   "execution_count": null,
   "id": "c53a4d52",
   "metadata": {},
   "outputs": [],
   "source": [
    "# Catagory the people by their age like children, adult, citizen, senior citizen..."
   ]
  },
  {
   "cell_type": "code",
   "execution_count": 25,
   "id": "5705ed0d",
   "metadata": {},
   "outputs": [
    {
     "name": "stdout",
     "output_type": "stream",
     "text": [
      "age: 20\n",
      "Adult\n"
     ]
    }
   ],
   "source": [
    "age = int(input(\"age: \"))\n",
    "if age <= 5 and age < 13:\n",
    "    print(\"Children\")\n",
    "elif age >= 13 and age < 35:\n",
    "    print(\"Adult\")\n",
    "elif age >= 35 and age < 60:\n",
    "    print(\"Citizen\")    \n",
    "elif age >= 60:\n",
    "    print(\"Senior Citizen\")"
   ]
  },
  {
   "cell_type": "code",
   "execution_count": null,
   "id": "b2526648",
   "metadata": {},
   "outputs": [],
   "source": [
    "# Find whether given number is positive or negative"
   ]
  },
  {
   "cell_type": "code",
   "execution_count": 29,
   "id": "80e1b207",
   "metadata": {},
   "outputs": [
    {
     "name": "stdout",
     "output_type": "stream",
     "text": [
      "Enter any number: 1\n",
      "No is positive\n"
     ]
    }
   ],
   "source": [
    "num = float(input(\"Enter any number: \"))\n",
    "if num > 0:\n",
    "   print(\"No is positive\")\n",
    "elif num == 0:\n",
    "   print(\"It is Zero\")\n",
    "else:\n",
    "   print(\"No is negative\")"
   ]
  },
  {
   "cell_type": "code",
   "execution_count": null,
   "id": "c24df5a1",
   "metadata": {},
   "outputs": [],
   "source": [
    "# Check whether the given number is divisible by 5\n",
    "CODE:\n",
    "num = int(input(\"Enter a number:\"))\n",
    "if num % 5== 0:\n",
    "    print (\"Yes is not divisible by 5\")\n",
    "else:\n",
    "    print (\"No is not divisible by 5\")"
   ]
  },
  {
   "cell_type": "code",
   "execution_count": 54,
   "id": "8f650950",
   "metadata": {},
   "outputs": [
    {
     "name": "stdout",
     "output_type": "stream",
     "text": [
      "Enter a number to check:22\n",
      "No is not divisible by 5\n"
     ]
    }
   ],
   "source": [
    "number = int (input (\"Enter a number to check:\"))\n",
    "if number % 5== 0:\n",
    "    print (\"Yes is not divisible by 5\")\n",
    "else:\n",
    "    print (\"No is not divisible by 5\")"
   ]
  }
 ],
 "metadata": {
  "kernelspec": {
   "display_name": "Python 3 (ipykernel)",
   "language": "python",
   "name": "python3"
  },
  "language_info": {
   "codemirror_mode": {
    "name": "ipython",
    "version": 3
   },
   "file_extension": ".py",
   "mimetype": "text/x-python",
   "name": "python",
   "nbconvert_exporter": "python",
   "pygments_lexer": "ipython3",
   "version": "3.11.3"
  }
 },
 "nbformat": 4,
 "nbformat_minor": 5
}
