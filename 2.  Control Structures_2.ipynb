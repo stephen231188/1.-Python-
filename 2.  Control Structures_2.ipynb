{
 "cells": [
  {
   "cell_type": "code",
   "execution_count": null,
   "id": "5ed9c655",
   "metadata": {},
   "outputs": [],
   "source": [
    "#print Statement"
   ]
  },
  {
   "cell_type": "code",
   "execution_count": 1,
   "id": "d6779d18",
   "metadata": {},
   "outputs": [
    {
     "name": "stdout",
     "output_type": "stream",
     "text": [
      "HOPE AI\n"
     ]
    }
   ],
   "source": [
    "print(\"HOPE AI\")"
   ]
  },
  {
   "cell_type": "code",
   "execution_count": null,
   "id": "5ad83381",
   "metadata": {},
   "outputs": [],
   "source": [
    "# Buy input "
   ]
  },
  {
   "cell_type": "code",
   "execution_count": 3,
   "id": "f1013852",
   "metadata": {
    "scrolled": true
   },
   "outputs": [
    {
     "name": "stdout",
     "output_type": "stream",
     "text": [
      "Enter your institute name? :HOPE AI\n"
     ]
    }
   ],
   "source": [
    "Name=input(\"Enter your institute name? :\")"
   ]
  },
  {
   "cell_type": "code",
   "execution_count": null,
   "id": "117b5dd3",
   "metadata": {},
   "outputs": [],
   "source": [
    "#Buy inputs"
   ]
  },
  {
   "cell_type": "code",
   "execution_count": 6,
   "id": "08b6826f",
   "metadata": {},
   "outputs": [
    {
     "name": "stdout",
     "output_type": "stream",
     "text": [
      "Enter your Name: Raj\n",
      "Enter your Age: 15\n",
      "Enter your school name: Guru School\n",
      "Enter your Degree: B.E CSE\n"
     ]
    }
   ],
   "source": [
    "Name=input(\"Enter your Name: \")\n",
    "Age=input(\"Enter your Age: \")\n",
    "School_Name=input(\"Enter your school name: \")\n",
    "Degree=input(\"Enter your Degree: \")"
   ]
  },
  {
   "cell_type": "code",
   "execution_count": null,
   "id": "16794521",
   "metadata": {},
   "outputs": [],
   "source": [
    "#Addition"
   ]
  },
  {
   "cell_type": "code",
   "execution_count": 15,
   "id": "2ed54fa9",
   "metadata": {},
   "outputs": [
    {
     "name": "stdout",
     "output_type": "stream",
     "text": [
      "a = 43\n",
      "b = 34\n",
      "Add = 77\n"
     ]
    }
   ],
   "source": [
    "a=43\n",
    "print(\"a = 43\")\n",
    "b=34\n",
    "print(\"b = 34\")\n",
    "add=a+b\n",
    "print((\"Add =\"),add)"
   ]
  },
  {
   "cell_type": "code",
   "execution_count": null,
   "id": "ab50d56d",
   "metadata": {},
   "outputs": [],
   "source": [
    "#Subtraction"
   ]
  },
  {
   "cell_type": "code",
   "execution_count": 16,
   "id": "900b9d5b",
   "metadata": {},
   "outputs": [
    {
     "name": "stdout",
     "output_type": "stream",
     "text": [
      "a = 43\n",
      "b = 34\n",
      "Sub = 9\n"
     ]
    }
   ],
   "source": [
    "a=43\n",
    "print(\"a = 43\")\n",
    "b=34\n",
    "print(\"b = 34\")\n",
    "sub=a-b\n",
    "print((\"Sub =\"),sub)"
   ]
  },
  {
   "cell_type": "code",
   "execution_count": null,
   "id": "033da717",
   "metadata": {},
   "outputs": [],
   "source": [
    "#Multiplication"
   ]
  },
  {
   "cell_type": "code",
   "execution_count": 17,
   "id": "e6e1f987",
   "metadata": {},
   "outputs": [
    {
     "name": "stdout",
     "output_type": "stream",
     "text": [
      "a = 63\n",
      "b = 97\n",
      "Mul = 6111\n"
     ]
    }
   ],
   "source": [
    "a=63\n",
    "print(\"a = 63\")\n",
    "b=97\n",
    "print(\"b = 97\")\n",
    "mul=a*b\n",
    "print((\"Mul =\"),mul)"
   ]
  },
  {
   "cell_type": "code",
   "execution_count": null,
   "id": "f0fc20da",
   "metadata": {},
   "outputs": [],
   "source": [
    "#Division"
   ]
  },
  {
   "cell_type": "code",
   "execution_count": 19,
   "id": "ff0bdb89",
   "metadata": {},
   "outputs": [
    {
     "name": "stdout",
     "output_type": "stream",
     "text": [
      "a = 76\n",
      "b = 31\n",
      "Float Div = 2.4516129032258065\n"
     ]
    }
   ],
   "source": [
    "a=76\n",
    "print(\"a = 76\")\n",
    "b=31\n",
    "print(\"b = 31\")\n",
    "div=a/b\n",
    "print((\"Float Div =\"),div)"
   ]
  },
  {
   "cell_type": "code",
   "execution_count": null,
   "id": "7d8f7f67",
   "metadata": {},
   "outputs": [],
   "source": [
    "#Floor division"
   ]
  },
  {
   "cell_type": "code",
   "execution_count": 20,
   "id": "7af3908d",
   "metadata": {},
   "outputs": [
    {
     "name": "stdout",
     "output_type": "stream",
     "text": [
      "a = 76\n",
      "b = 31\n",
      "Floor Div = 2\n"
     ]
    }
   ],
   "source": [
    "a=76\n",
    "print(\"a = 76\")\n",
    "b=31\n",
    "print(\"b = 31\")\n",
    "div=a//b\n",
    "print((\"Floor Div =\"),div)"
   ]
  },
  {
   "cell_type": "code",
   "execution_count": null,
   "id": "339b1f9b",
   "metadata": {},
   "outputs": [],
   "source": [
    "#Modulo"
   ]
  },
  {
   "cell_type": "code",
   "execution_count": 21,
   "id": "46fcc9d5",
   "metadata": {},
   "outputs": [
    {
     "name": "stdout",
     "output_type": "stream",
     "text": [
      "a = 76\n",
      "b = 31\n",
      "Modulo = 14\n"
     ]
    }
   ],
   "source": [
    "a=76\n",
    "print(\"a = 76\")\n",
    "b=31\n",
    "print(\"b = 31\")\n",
    "mod=a%b\n",
    "print((\"Modulo =\"),mod)"
   ]
  },
  {
   "cell_type": "code",
   "execution_count": null,
   "id": "8e37416c",
   "metadata": {},
   "outputs": [],
   "source": [
    "#Power"
   ]
  },
  {
   "cell_type": "code",
   "execution_count": 22,
   "id": "2a43c32f",
   "metadata": {},
   "outputs": [
    {
     "name": "stdout",
     "output_type": "stream",
     "text": [
      "a = 4\n",
      "b = 4\n",
      "Power = 256\n"
     ]
    }
   ],
   "source": [
    "a=4\n",
    "print(\"a = 4\")\n",
    "b=4\n",
    "print(\"b = 4\")\n",
    "pow=a**b\n",
    "print((\"Power =\"),pow)"
   ]
  }
 ],
 "metadata": {
  "kernelspec": {
   "display_name": "Python 3 (ipykernel)",
   "language": "python",
   "name": "python3"
  },
  "language_info": {
   "codemirror_mode": {
    "name": "ipython",
    "version": 3
   },
   "file_extension": ".py",
   "mimetype": "text/x-python",
   "name": "python",
   "nbconvert_exporter": "python",
   "pygments_lexer": "ipython3",
   "version": "3.11.3"
  }
 },
 "nbformat": 4,
 "nbformat_minor": 5
}
