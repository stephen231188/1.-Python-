{
 "cells": [
  {
   "cell_type": "code",
   "execution_count": null,
   "id": "a5790374",
   "metadata": {},
   "outputs": [],
   "source": [
    "# print 0 to 20 by using range"
   ]
  },
  {
   "cell_type": "code",
   "execution_count": 2,
   "id": "3c7261ba",
   "metadata": {},
   "outputs": [
    {
     "name": "stdout",
     "output_type": "stream",
     "text": [
      "0\n",
      "1\n",
      "2\n",
      "3\n",
      "4\n",
      "5\n",
      "6\n",
      "7\n",
      "8\n",
      "9\n",
      "10\n",
      "11\n",
      "12\n",
      "13\n",
      "14\n",
      "15\n",
      "16\n",
      "17\n",
      "18\n",
      "19\n"
     ]
    }
   ],
   "source": [
    "for i in range(20):\n",
    "    print(i)"
   ]
  },
  {
   "cell_type": "code",
   "execution_count": null,
   "id": "7603dd6e",
   "metadata": {},
   "outputs": [],
   "source": [
    "# print range 10 to 20"
   ]
  },
  {
   "cell_type": "code",
   "execution_count": 3,
   "id": "41da4339",
   "metadata": {},
   "outputs": [
    {
     "name": "stdout",
     "output_type": "stream",
     "text": [
      "10\n",
      "11\n",
      "12\n",
      "13\n",
      "14\n",
      "15\n",
      "16\n",
      "17\n",
      "18\n",
      "19\n"
     ]
    }
   ],
   "source": [
    "for i in range(10, 20):\n",
    "    print(i)"
   ]
  },
  {
   "cell_type": "code",
   "execution_count": 4,
   "id": "d7bcde72",
   "metadata": {},
   "outputs": [
    {
     "name": "stdout",
     "output_type": "stream",
     "text": [
      "10\n",
      "12\n",
      "14\n",
      "16\n",
      "18\n"
     ]
    }
   ],
   "source": [
    "for i in range(10, 20, 2):\n",
    "    print(i)"
   ]
  },
  {
   "cell_type": "code",
   "execution_count": null,
   "id": "492f9c90",
   "metadata": {},
   "outputs": [],
   "source": [
    "# Print number of items in the list by using 'len'"
   ]
  },
  {
   "cell_type": "code",
   "execution_count": 18,
   "id": "fa44fdcf",
   "metadata": {},
   "outputs": [
    {
     "name": "stdout",
     "output_type": "stream",
     "text": [
      "[10, 20, 14, 55, 43, 87, 76]\n",
      "Number of item in the List2:\n",
      "7\n"
     ]
    }
   ],
   "source": [
    "list2 = [10, 20, 14, 55, 43, 87, 76]\n",
    "print(list2)\n",
    "print(\"Number of item in the List2:\")\n",
    "print(len(list2))"
   ]
  },
  {
   "cell_type": "code",
   "execution_count": 38,
   "id": "31d52ba7",
   "metadata": {},
   "outputs": [
    {
     "name": "stdout",
     "output_type": "stream",
     "text": [
      "Artificial Intelligence\n",
      "A\n",
      "r\n",
      "t\n",
      "i\n",
      "f\n",
      "i\n",
      "c\n",
      "i\n",
      "a\n",
      "l\n",
      " \n",
      "I\n",
      "n\n",
      "t\n",
      "e\n",
      "l\n",
      "l\n",
      "i\n",
      "g\n",
      "e\n",
      "n\n",
      "c\n",
      "e\n"
     ]
    }
   ],
   "source": [
    "list=(\"Artificial Intelligence\")\n",
    "print(\"Artificial Intelligence\", *list, sep='\\n') "
   ]
  },
  {
   "cell_type": "code",
   "execution_count": 49,
   "id": "29258b95",
   "metadata": {},
   "outputs": [
    {
     "name": "stdout",
     "output_type": "stream",
     "text": [
      "-Your Name-\n",
      "-Your Age-\n",
      "-Your Profession-\n"
     ]
    }
   ],
   "source": [
    "string =(\"-Your Name-\\n-Your Age-\\n-Your Profession-\")\n",
    "print(string) "
   ]
  },
  {
   "cell_type": "code",
   "execution_count": null,
   "id": "d7957b64",
   "metadata": {},
   "outputs": [],
   "source": [
    "# Refer this link : https://www.geeksforgeeks.org/python-tuples/# Print yhis mixered datatype using Tuples"
   ]
  },
  {
   "cell_type": "code",
   "execution_count": 50,
   "id": "aa1fb468",
   "metadata": {},
   "outputs": [
    {
     "name": "stdout",
     "output_type": "stream",
     "text": [
      "(1, 'Welcome', 2, 'Hope')\n"
     ]
    }
   ],
   "source": [
    "Tuple1 =(1, 'Welcome', 2, 'Hope')\n",
    "print(Tuple1)"
   ]
  },
  {
   "cell_type": "code",
   "execution_count": null,
   "id": "0ff8dc9a",
   "metadata": {},
   "outputs": [],
   "source": [
    "# Refer this link : https://www.geeksforgeeks.org/python-tuples/\n",
    "Tuple1=(0,1,2,3)"
   ]
  },
  {
   "cell_type": "code",
   "execution_count": 53,
   "id": "5c94917a",
   "metadata": {},
   "outputs": [
    {
     "name": "stdout",
     "output_type": "stream",
     "text": [
      "((0, 1, 2, 3), ('python', 'HOPE'))\n"
     ]
    }
   ],
   "source": [
    "Tuple1 = (0, 1, 2, 3)\n",
    "Tuple2 = ('python', 'HOPE')\n",
    "Tuple3 = (Tuple1, Tuple2)\n",
    "print(Tuple3)"
   ]
  },
  {
   "cell_type": "code",
   "execution_count": null,
   "id": "92f7e4b1",
   "metadata": {},
   "outputs": [],
   "source": [
    "# print Odd Numbers in the list"
   ]
  },
  {
   "cell_type": "code",
   "execution_count": 68,
   "id": "5951f9ce",
   "metadata": {},
   "outputs": [
    {
     "name": "stdout",
     "output_type": "stream",
     "text": [
      "19 is odd\n",
      "25 is odd\n",
      "1 is odd\n"
     ]
    }
   ],
   "source": [
    "list1=[20,10,16,19,25,1,276,188]\n",
    "for num in list1:\n",
    "     if num % 2!= 0:\n",
    "       print(num,\"is odd\")"
   ]
  },
  {
   "cell_type": "code",
   "execution_count": 71,
   "id": "bcad5325",
   "metadata": {},
   "outputs": [
    {
     "name": "stdout",
     "output_type": "stream",
     "text": [
      "19 is odd\n",
      "25 is odd\n",
      "1 is odd\n"
     ]
    }
   ],
   "source": [
    "list1=[20,10,16,19,25,1,276,188]\n",
    "for i in list1:\n",
    "     if i % 2 == 1:\n",
    "       print(i,\"is odd\")"
   ]
  },
  {
   "cell_type": "code",
   "execution_count": null,
   "id": "40848688",
   "metadata": {},
   "outputs": [],
   "source": [
    "# print Even numbers in the list"
   ]
  },
  {
   "cell_type": "code",
   "execution_count": 69,
   "id": "34f7bcf1",
   "metadata": {},
   "outputs": [
    {
     "name": "stdout",
     "output_type": "stream",
     "text": [
      "20 is odd\n",
      "10 is odd\n",
      "16 is odd\n",
      "276 is odd\n",
      "188 is odd\n"
     ]
    }
   ],
   "source": [
    "list1=[20,10,16,19,25,1,276,188]\n",
    "for num in list1:\n",
    "     if num % 2 != 1:\n",
    "       print(num,\"is odd\")"
   ]
  },
  {
   "cell_type": "code",
   "execution_count": 72,
   "id": "e340a972",
   "metadata": {},
   "outputs": [
    {
     "name": "stdout",
     "output_type": "stream",
     "text": [
      "20 is odd\n",
      "10 is odd\n",
      "16 is odd\n",
      "276 is odd\n",
      "188 is odd\n"
     ]
    }
   ],
   "source": [
    "list1=[20,10,16,19,25,1,276,188]\n",
    "for i in list1:\n",
    "     if i % 2 == 0:\n",
    "       print(i,\"is odd\")"
   ]
  }
 ],
 "metadata": {
  "kernelspec": {
   "display_name": "Python 3 (ipykernel)",
   "language": "python",
   "name": "python3"
  },
  "language_info": {
   "codemirror_mode": {
    "name": "ipython",
    "version": 3
   },
   "file_extension": ".py",
   "mimetype": "text/x-python",
   "name": "python",
   "nbconvert_exporter": "python",
   "pygments_lexer": "ipython3",
   "version": "3.11.3"
  }
 },
 "nbformat": 4,
 "nbformat_minor": 5
}
